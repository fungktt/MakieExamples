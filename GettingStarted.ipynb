{
 "cells": [
  {
   "cell_type": "markdown",
   "metadata": {},
   "source": [
    "# Plotting with Makie.jl\n",
    "\n",
    "Makie is a package on Julia that's in charge of creating high-performance, extendable, and multi-platform plots on the GPU with interactivity."
   ]
  },
  {
   "cell_type": "markdown",
   "metadata": {},
   "source": [
    "## Basics\n",
    "\n",
    "Today we'll be showing you how to use `Makie.jl`.  If it's not installed yet, you need to use the package manager to install it, and Julia will precompile it for you the first time you use it:"
   ]
  },
  {
   "cell_type": "code",
   "execution_count": 23,
   "metadata": {},
   "outputs": [],
   "source": [
    "using Makie"
   ]
  },
  {
   "cell_type": "markdown",
   "metadata": {},
   "source": [
    "## Setting up the scene\n",
    "\n",
    "The first thing we need to do in Makie is to set up a scene, which will hold everything we add to in a plot. We can initialize it like so:"
   ]
  },
  {
   "cell_type": "code",
   "execution_count": 24,
   "metadata": {},
   "outputs": [
    {
     "data": {},
     "execution_count": 24,
     "metadata": {},
     "output_type": "execute_result"
    }
   ],
   "source": [
    "scene1 = Scene()"
   ]
  },
  {
   "cell_type": "code",
   "execution_count": 25,
   "metadata": {},
   "outputs": [
    {
     "data": {
      "text/plain": [
       "20-element Array{Float64,1}:\n",
       " -0.7500079815555921 \n",
       "  2.0037210832202375 \n",
       " -1.5944884740706133 \n",
       " -0.48018798981634125\n",
       "  1.7870676887097279 \n",
       " -0.3673733622503634 \n",
       "  0.2932571396819868 \n",
       "  1.1278258134050552 \n",
       " -0.7037735029420465 \n",
       "  0.23503724101349294\n",
       " -0.05855659047756168\n",
       " -0.1393114627111937 \n",
       " -1.7151200858425737 \n",
       " -0.01568381888502592\n",
       "  0.7567702659085787 \n",
       " -0.35779397507252075\n",
       "  0.03763871865769715\n",
       " -0.9839811955282612 \n",
       " -1.3241450431946409 \n",
       " -0.23848564665770328"
      ]
     },
     "execution_count": 25,
     "metadata": {},
     "output_type": "execute_result"
    }
   ],
   "source": [
    "values = randn(20)"
   ]
  },
  {
   "cell_type": "markdown",
   "metadata": {},
   "source": [
    "Let's do a scatter plot with 20 random numbers!"
   ]
  },
  {
   "cell_type": "code",
   "execution_count": 26,
   "metadata": {},
   "outputs": [
    {
     "data": {},
     "execution_count": 26,
     "metadata": {},
     "output_type": "execute_result"
    }
   ],
   "source": [
    "scatter!(scene1, values)"
   ]
  },
  {
   "cell_type": "code",
   "execution_count": 27,
   "metadata": {},
   "outputs": [
    {
     "data": {
      "text/plain": [
       "GLMakie.Screen(...)"
      ]
     },
     "execution_count": 27,
     "metadata": {},
     "output_type": "execute_result"
    }
   ],
   "source": [
    "display(scene1)"
   ]
  },
  {
   "cell_type": "markdown",
   "metadata": {},
   "source": [
    "## Defining Points and Plotting multiple functions!"
   ]
  },
  {
   "cell_type": "code",
   "execution_count": 28,
   "metadata": {},
   "outputs": [
    {
     "data": {
      "text/plain": [
       "GLMakie.Screen(...)"
      ]
     },
     "execution_count": 28,
     "metadata": {},
     "output_type": "execute_result"
    }
   ],
   "source": [
    "x = [5,6,7,8]\n",
    "y = [1,2,3,4]\n",
    "\n",
    "scene2 = Scene()\n",
    "scatter!(scene2, x, y)\n",
    "lines!(scene2, x, y)\n",
    "\n",
    "display(scene2)"
   ]
  },
  {
   "cell_type": "markdown",
   "metadata": {},
   "source": [
    "## Attributes\n",
    "\n",
    "You can add attributes (arguments) to customize what you're plotting."
   ]
  },
  {
   "cell_type": "code",
   "execution_count": 31,
   "metadata": {},
   "outputs": [
    {
     "data": {
      "text/plain": [
       "GLMakie.Screen(...)"
      ]
     },
     "execution_count": 31,
     "metadata": {},
     "output_type": "execute_result"
    }
   ],
   "source": [
    "display(lines(rand(10), linewidth = 20, color = :blue))"
   ]
  },
  {
   "cell_type": "code",
   "execution_count": 34,
   "metadata": {},
   "outputs": [
    {
     "data": {
      "text/plain": [
       "GLMakie.Screen(...)"
      ]
     },
     "execution_count": 34,
     "metadata": {},
     "output_type": "execute_result"
    }
   ],
   "source": [
    "display(scatter(randn(20), color = to_colormap(:deep, 20), markersize = 1))"
   ]
  },
  {
   "cell_type": "markdown",
   "metadata": {},
   "source": [
    "Noticed how there wasn't a scene in this case. You're allowed to not have a scene when there's only one function you would like to call on the plot. You can display it straight away. You will also need to remove `!` from the function so that it's non-mutating or else it will cause an error."
   ]
  },
  {
   "cell_type": "markdown",
   "metadata": {},
   "source": [
    "## Building in pieces\n",
    "Why is it helpful to have a scene?"
   ]
  },
  {
   "cell_type": "code",
   "execution_count": 36,
   "metadata": {},
   "outputs": [
    {
     "data": {
      "text/plain": [
       "GLMakie.Screen(...)"
      ]
     },
     "execution_count": 36,
     "metadata": {},
     "output_type": "execute_result"
    }
   ],
   "source": [
    "scene = Scene()\n",
    "lines!(scene, rand(50)/3, color = :purple, linewidth = 5)\n",
    "display(scene)"
   ]
  },
  {
   "cell_type": "code",
   "execution_count": 37,
   "metadata": {},
   "outputs": [
    {
     "data": {
      "text/plain": [
       "GLMakie.Screen(...)"
      ]
     },
     "execution_count": 37,
     "metadata": {},
     "output_type": "execute_result"
    }
   ],
   "source": [
    "scatter!(scene, rand(50), color = :orange, markersize = 1)\n",
    "display(scene)"
   ]
  },
  {
   "cell_type": "markdown",
   "metadata": {},
   "source": [
    "## Functions"
   ]
  },
  {
   "cell_type": "code",
   "execution_count": 40,
   "metadata": {},
   "outputs": [
    {
     "data": {
      "text/plain": [
       "GLMakie.Screen(...)"
      ]
     },
     "execution_count": 40,
     "metadata": {},
     "output_type": "execute_result"
    }
   ],
   "source": [
    "scene = Scene()\n",
    "x = range(0, stop = 3pi, step = 0.01)\n",
    "lines!(scene, x, sin.(x), color = :black)\n",
    "lines!(scene, x, cos.(x), color = :blue)\n",
    "display(scene)"
   ]
  },
  {
   "cell_type": "markdown",
   "metadata": {},
   "source": [
    "## Adding Text"
   ]
  },
  {
   "cell_type": "code",
   "execution_count": 41,
   "metadata": {},
   "outputs": [
    {
     "data": {
      "text/plain": [
       "GLMakie.Screen(...)"
      ]
     },
     "execution_count": 41,
     "metadata": {},
     "output_type": "execute_result"
    }
   ],
   "source": [
    "scene = Scene()\n",
    "scatter!(scene, rand(10), color = :red)\n",
    "text!(scene, \"adding text\", textsize = 0.6, position = (5.0, 1.1))\n",
    "display(scene)"
   ]
  },
  {
   "cell_type": "markdown",
   "metadata": {},
   "source": [
    "## Adding Titles"
   ]
  },
  {
   "cell_type": "code",
   "execution_count": 42,
   "metadata": {},
   "outputs": [
    {
     "data": {
      "text/plain": [
       "GLMakie.Screen(...)"
      ]
     },
     "execution_count": 42,
     "metadata": {},
     "output_type": "execute_result"
    }
   ],
   "source": [
    "display(title(lines(rand(10)), \"Hello World\"))"
   ]
  },
  {
   "cell_type": "markdown",
   "metadata": {},
   "source": [
    "## Parametric Plots"
   ]
  },
  {
   "cell_type": "code",
   "execution_count": 44,
   "metadata": {},
   "outputs": [
    {
     "name": "stderr",
     "output_type": "stream",
     "text": [
      "┌ Warning: `a::StaticArray + b::Number` is deprecated, use `a .+ b` instead.\n",
      "│   caller = _broadcast_getindex at broadcast.jl:630 [inlined]\n",
      "└ @ Core ./broadcast.jl:630\n"
     ]
    },
    {
     "data": {
      "text/plain": [
       "GLMakie.Screen(...)"
      ]
     },
     "execution_count": 44,
     "metadata": {},
     "output_type": "execute_result"
    }
   ],
   "source": [
    "x = LinRange(0, 2pi, 100)\n",
    "display(poly(Point2f0.(zip(sin.(x), sin.(2x))), color = \"orange\", strokecolor = \"blue\", strokewidth = 4))"
   ]
  },
  {
   "cell_type": "markdown",
   "metadata": {},
   "source": [
    "## Bar Plots"
   ]
  },
  {
   "cell_type": "code",
   "execution_count": 45,
   "metadata": {},
   "outputs": [
    {
     "data": {
      "text/plain": [
       "GLMakie.Screen(...)"
      ]
     },
     "execution_count": 45,
     "metadata": {},
     "output_type": "execute_result"
    }
   ],
   "source": [
    "display(barplot(randn(100), color = to_colormap(:colorwheel, 100), linewidth =5))"
   ]
  },
  {
   "cell_type": "markdown",
   "metadata": {},
   "source": [
    "## Contours"
   ]
  },
  {
   "cell_type": "code",
   "execution_count": 46,
   "metadata": {},
   "outputs": [
    {
     "data": {
      "text/plain": [
       "GLMakie.Screen(...)"
      ]
     },
     "execution_count": 46,
     "metadata": {},
     "output_type": "execute_result"
    }
   ],
   "source": [
    "x = LinRange(-1, 1, 20)\n",
    "y = LinRange(-1, 1, 20)\n",
    "z = x .* y'\n",
    "\n",
    "display(vbox(\n",
    "    contour(x, y, z, levels = 50, linewidth =3),\n",
    "    contour(x, y, z, levels = 0, linewidth = 0, fillrange = true)\n",
    "     ))"
   ]
  },
  {
   "cell_type": "markdown",
   "metadata": {},
   "source": [
    "## 3D"
   ]
  },
  {
   "cell_type": "code",
   "execution_count": 48,
   "metadata": {},
   "outputs": [
    {
     "data": {
      "text/plain": [
       "GLMakie.Screen(...)"
      ]
     },
     "execution_count": 48,
     "metadata": {},
     "output_type": "execute_result"
    }
   ],
   "source": [
    "x = [2 .* (i/3) .* cos(i) for i in range(0, stop = 4pi, length = 30)]\n",
    "y = [2 .* (i/3) .* sin(i) for i in range(0, stop = 4pi, length = 30)]\n",
    "z = range(0, stop = 5, length = 30)\n",
    "display(meshscatter(x, y, z, markersize = 0.5, color = to_colormap(:blues, 30)))"
   ]
  },
  {
   "cell_type": "markdown",
   "metadata": {},
   "source": [
    "## The StatsMakie package & Histogram"
   ]
  },
  {
   "cell_type": "code",
   "execution_count": 51,
   "metadata": {},
   "outputs": [
    {
     "data": {
      "text/plain": [
       "GLMakie.Screen(...)"
      ]
     },
     "execution_count": 51,
     "metadata": {},
     "output_type": "execute_result"
    }
   ],
   "source": [
    "using StatsMakie\n",
    "display(plot(histogram(nbins = 20), randn(10000), randn(10000)))"
   ]
  },
  {
   "cell_type": "markdown",
   "metadata": {},
   "source": [
    "## Plotting images"
   ]
  },
  {
   "cell_type": "code",
   "execution_count": 55,
   "metadata": {},
   "outputs": [
    {
     "data": {
      "text/plain": [
       "GLMakie.Screen(...)"
      ]
     },
     "execution_count": 55,
     "metadata": {},
     "output_type": "execute_result"
    }
   ],
   "source": [
    "import FileIO\n",
    "path = download(\"http://makie.juliaplots.org/dev/assets/logo.png\")\n",
    "img = FileIO.load(path)\n",
    "display(image(img, scale_plot = false))"
   ]
  },
  {
   "cell_type": "markdown",
   "metadata": {},
   "source": [
    "## Subplots"
   ]
  },
  {
   "cell_type": "code",
   "execution_count": 56,
   "metadata": {},
   "outputs": [
    {
     "data": {
      "text/plain": [
       "GLMakie.Screen(...)"
      ]
     },
     "execution_count": 56,
     "metadata": {},
     "output_type": "execute_result"
    }
   ],
   "source": [
    "using StatsMakie\n",
    "scene1, scene2, scene3, scene4 = Scene(), Scene(), Scene(), Scene()\n",
    "lines!(scene1, rand(10), color=:red)\n",
    "lines!(scene1, rand(10), color=:blue)\n",
    "lines!(scene1, rand(10), color=:green)\n",
    "scatter!(scene2, rand(10), color=:red)\n",
    "scatter!(scene2, rand(10), color=:blue)\n",
    "scatter!(scene2, rand(10), color=:orange)\n",
    "barplot!(scene3, randn(99))\n",
    "plot!(scene4, histogram, randn(1000))\n",
    "display(vbox(hbox(scene2, scene1), hbox(scene4, scene3)))"
   ]
  },
  {
   "cell_type": "markdown",
   "metadata": {},
   "source": [
    "## Lines with varying colors"
   ]
  },
  {
   "cell_type": "code",
   "execution_count": 57,
   "metadata": {},
   "outputs": [
    {
     "data": {
      "text/plain": [
       "GLMakie.Screen(...)"
      ]
     },
     "execution_count": 57,
     "metadata": {},
     "output_type": "execute_result"
    }
   ],
   "source": [
    "t = range(0, stop=1, length=100)\n",
    "θ = (6π) .* t\n",
    "x = t .* cos.(θ)\n",
    "y = t .* sin.(θ)\n",
    "p1 = lines(x,y,color=t,colormap=:colorwheel,linewidth= 8,scale_plot= false)\n",
    "p2 = scatter(x,y,color=t,colormap=:colorwheel,linewidth= 8,scale_plot= false)\n",
    "display(vbox(p1, p2))"
   ]
  },
  {
   "cell_type": "markdown",
   "metadata": {},
   "source": [
    "## Exercises"
   ]
  },
  {
   "cell_type": "markdown",
   "metadata": {},
   "source": [
    "Given\n",
    "```julia\n",
    "x = -10:10\n",
    "```\n",
    "plot y vs. x for $y = x^2$."
   ]
  },
  {
   "cell_type": "code",
   "execution_count": 58,
   "metadata": {},
   "outputs": [
    {
     "data": {
      "text/plain": [
       "GLMakie.Screen(...)"
      ]
     },
     "execution_count": 58,
     "metadata": {},
     "output_type": "execute_result"
    }
   ],
   "source": [
    "x = range(-10, stop = 10, step = 1)\n",
    "display(lines(x, x.^2))"
   ]
  },
  {
   "cell_type": "markdown",
   "metadata": {},
   "source": [
    "Given the following code, create a suplots containing all of these plots."
   ]
  },
  {
   "cell_type": "code",
   "execution_count": null,
   "metadata": {},
   "outputs": [],
   "source": [
    "x = range(-10, stop = 10, step = 1)\n",
    "scene1, scene2, scene3, scene4 = Scene(), Scene(), Scene(), Scene()\n",
    "lines!(scene1, x, x.^1, color=:red)\n",
    "lines!(scene2, x, x.^2, color=:blue)\n",
    "lines!(scene3, x, x.^3, color=:green)\n",
    "lines!(scene4, x, x.^4, color=:purple)"
   ]
  },
  {
   "cell_type": "code",
   "execution_count": 59,
   "metadata": {},
   "outputs": [
    {
     "data": {
      "text/plain": [
       "GLMakie.Screen(...)"
      ]
     },
     "execution_count": 59,
     "metadata": {},
     "output_type": "execute_result"
    }
   ],
   "source": [
    "display(vbox(hbox(scene2, scene1), hbox(scene4, scene3)))"
   ]
  },
  {
   "cell_type": "markdown",
   "metadata": {},
   "source": [
    "# Well Done!!!"
   ]
  }
 ],
 "metadata": {
  "kernelspec": {
   "display_name": "Julia 1.3.0",
   "language": "julia",
   "name": "julia-1.3"
  },
  "language_info": {
   "file_extension": ".jl",
   "mimetype": "application/julia",
   "name": "julia",
   "version": "1.3.0"
  }
 },
 "nbformat": 4,
 "nbformat_minor": 2
}
